{
 "cells": [
  {
   "cell_type": "code",
   "execution_count": 241,
   "metadata": {},
   "outputs": [],
   "source": [
    "import os\n",
    "import pandas as pd \n",
    "import numpy as np \n",
    "import time\n",
    "\n",
    "from keras.layers.core import Dense, Activation, Dropout\n",
    "from keras.layers.normalization import BatchNormalization\n",
    "from keras.layers.recurrent import LSTM\n",
    "from keras.models import Sequential\n",
    "from keras.callbacks import ModelCheckpoint\n",
    "from keras.callbacks import EarlyStopping\n",
    "from keras.callbacks import History\n",
    "from keras.layers.advanced_activations import PReLU, LeakyReLU\n",
    "from sklearn.preprocessing import MinMaxScaler"
   ]
  },
  {
   "cell_type": "code",
   "execution_count": 279,
   "metadata": {
    "collapsed": true
   },
   "outputs": [],
   "source": [
    "import pandas as pd\n",
    "from sklearn.metrics import explained_variance_score, mean_absolute_error, mean_squared_error, median_absolute_error, \\\n",
    "    r2_score\n",
    "import math\n",
    "import matplotlib.pyplot as plt"
   ]
  },
  {
   "cell_type": "code",
   "execution_count": 544,
   "metadata": {},
   "outputs": [],
   "source": [
    "# 输入数据\n",
    "INPUT_DATA = \"blackmetal/data/shuju1.csv\"\n",
    "# 需要加入训练的特征长度\n",
    "# FEATURE_LEN = 5\n",
    "# 时间序列长度\n",
    "SEQ_LEN = 20\n",
    "# 预测步长\n",
    "STEP_LEN = 20\n",
    "# epochs大小\n",
    "EPOCHS = 500\n",
    "# 批大小\n",
    "BATCH_SIZE = 128\n",
    "# 测试训练集比例\n",
    "TRAIN_SAMPLES_RATE = 0.8\n",
    "# 网络形状\n",
    "LAYERS = [41, SEQ_LEN, 100, STEP_LEN]"
   ]
  },
  {
   "cell_type": "code",
   "execution_count": 545,
   "metadata": {
    "collapsed": true
   },
   "outputs": [],
   "source": [
    "def min_max_normal(train,test):\n",
    "    # 对数据进行归一化\n",
    "    scaler = MinMaxScaler()\n",
    "    scalerModel = scaler.fit(train)\n",
    "    _train = scalerModel.transform(train)\n",
    "    _test  = scalerModel.transform(test)\n",
    "    return _train, _test, scalerModel\n",
    "\n",
    "def reshape_data(data, SEQ_LEN):\n",
    "    reshape_data = []\n",
    "    for i in range(len(data) - SEQ_LEN):\n",
    "        reshape_data.append(data[i: i + SEQ_LEN])\n",
    "    return np.array(reshape_data)"
   ]
  },
  {
   "cell_type": "code",
   "execution_count": 546,
   "metadata": {
    "collapsed": true
   },
   "outputs": [],
   "source": [
    "def build_model():\n",
    "    \"\"\"\n",
    "    定义模型\n",
    "    \"\"\"\n",
    "    model = Sequential()\n",
    "\n",
    "    model.add(LSTM(units=LAYERS[1], input_shape=(LAYERS[1], LAYERS[0]), return_sequences=True))\n",
    "    model.add(Dropout(0.2))\n",
    "\n",
    "    model.add(LSTM(LAYERS[2], return_sequences=False))\n",
    "    model.add(Dropout(0.2))\n",
    "\n",
    "    model.add(Dense(units=LAYERS[3]))\n",
    "    model.add(BatchNormalization(weights=None, epsilon=1e-06, momentum=0.9))\n",
    "    model.add(Activation(\"tanh\"))\n",
    "    # act = PReLU(alpha_initializer='zeros', weights=None)\n",
    "    # act = LeakyReLU(alpha=0.3)\n",
    "    # model.add(act)\n",
    "\n",
    "    start = time.time()\n",
    "    model.compile(loss=\"mse\", optimizer=\"rmsprop\")\n",
    "    print(\"> Compilation Time : \", time.time() - start)\n",
    "    return model"
   ]
  },
  {
   "cell_type": "code",
   "execution_count": 547,
   "metadata": {},
   "outputs": [],
   "source": [
    "raw_data = pd.read_csv(INPUT_DATA)"
   ]
  },
  {
   "cell_type": "code",
   "execution_count": 548,
   "metadata": {},
   "outputs": [],
   "source": [
    "raw_data.columns = [\"date\", \"time\", \"open\", \"close\", \"high\", \"low\", \"volume\", \n",
    "                     \"p1\", \"p2\", \"p3\", \"p4\", \"p5\", \"p6\", \"p7\", \"p8\", \"p9\", \"p10\",\n",
    "                     \"p11\", \"p12\", \"p13\", \"p14\", \"p15\", \"p16\", \"p17\", \"p18\", \"p19\", \"p20\", \n",
    "                     \"p21\", \"p22\", \"p23\", \"p24\", \"p25\", \"p26\", \"p27\", \"p28\", \"p29\", \"p30\",\n",
    "                     \"p31\", \"p32\", \"p33\", \"p34\", \"p35\", \"p36\", \"p37\"]"
   ]
  },
  {
   "cell_type": "code",
   "execution_count": 551,
   "metadata": {},
   "outputs": [],
   "source": [
    "\n",
    "train_samples_num = int((len(raw_data) - STEP_LEN) * TRAIN_SAMPLES_RATE)\n",
    "\n",
    "# Divide features and labels\n",
    "labels = raw_data[[\"date\", \"time\",\"high\"]]\n",
    "labels_tag = labels[\"high\"]\n",
    "data =  raw_data.drop(['high'],axis=1) # 删除需要预测的数据行\n",
    "features = data.drop([\"date\", \"time\"],axis=1)"
   ]
  },
  {
   "cell_type": "code",
   "execution_count": 552,
   "metadata": {},
   "outputs": [
    {
     "name": "stdout",
     "output_type": "stream",
     "text": [
      "(16152, 41) (4039, 41) (16152,) (4039,) 16152\n"
     ]
    }
   ],
   "source": [
    "_x_train = np.array(features[:train_samples_num])\n",
    "_x_test = np.array(features[train_samples_num:-STEP_LEN])\n",
    "_y_train = np.array(labels_tag).T[STEP_LEN:(train_samples_num + STEP_LEN)]\n",
    "_y_test = np.array(labels_tag).T[train_samples_num + STEP_LEN:]\n",
    "#_y_train = _y_train[:, np.newaxis] # 行向量转化为列向量\n",
    "#_y_test = _y_test[:, np.newaxis]\n",
    "print _x_train.shape, _x_test.shape, _y_train.shape, _y_test.shape,\n",
    "print train_samples_num"
   ]
  },
  {
   "cell_type": "code",
   "execution_count": 553,
   "metadata": {},
   "outputs": [
    {
     "name": "stderr",
     "output_type": "stream",
     "text": [
      "/usr/local/lib/python2.7/site-packages/sklearn/preprocessing/data.py:321: DeprecationWarning: Passing 1d arrays as data is deprecated in 0.17 and will raise ValueError in 0.19. Reshape your data either using X.reshape(-1, 1) if your data has a single feature or X.reshape(1, -1) if it contains a single sample.\n",
      "  warnings.warn(DEPRECATION_MSG_1D, DeprecationWarning)\n",
      "/usr/local/lib/python2.7/site-packages/sklearn/preprocessing/data.py:356: DeprecationWarning: Passing 1d arrays as data is deprecated in 0.17 and will raise ValueError in 0.19. Reshape your data either using X.reshape(-1, 1) if your data has a single feature or X.reshape(1, -1) if it contains a single sample.\n",
      "  warnings.warn(DEPRECATION_MSG_1D, DeprecationWarning)\n",
      "/usr/local/lib/python2.7/site-packages/sklearn/preprocessing/data.py:356: DeprecationWarning: Passing 1d arrays as data is deprecated in 0.17 and will raise ValueError in 0.19. Reshape your data either using X.reshape(-1, 1) if your data has a single feature or X.reshape(1, -1) if it contains a single sample.\n",
      "  warnings.warn(DEPRECATION_MSG_1D, DeprecationWarning)\n"
     ]
    },
    {
     "name": "stdout",
     "output_type": "stream",
     "text": [
      "(16132, 20, 41) (16132, 20) (4019, 20, 41) (4019, 20)\n"
     ]
    }
   ],
   "source": [
    "    _x_train, _x_test, x_scaler = min_max_normal(_x_train, _x_test)\n",
    "    _y_train, _y_test, y_scaler = min_max_normal(_y_train, _y_test)\n",
    "    \n",
    "    x_train = reshape_data(_x_train, SEQ_LEN)\n",
    "    x_test = reshape_data(_x_test, SEQ_LEN)\n",
    "    y_train = reshape_data(_y_train, STEP_LEN)\n",
    "    y_test = reshape_data(_y_test, STEP_LEN)\n",
    "\n",
    "    #print len(features), len(_x_train), len(_x_test), len(y_train), len(y_test)\n",
    "    print x_train.shape, y_train.shape, x_test.shape, y_test.shape\n",
    "\n",
    "  #  return [x_train, x_test, y_train, y_test, labels, labels_tag, data, features, x_scaler, y_scaler]"
   ]
  },
  {
   "cell_type": "code",
   "execution_count": 554,
   "metadata": {},
   "outputs": [
    {
     "name": "stdout",
     "output_type": "stream",
     "text": [
      "(20211, 3) (20211,) (20211, 41)\n"
     ]
    }
   ],
   "source": [
    "print labels.shape, labels_tag.shape, features.shape"
   ]
  },
  {
   "cell_type": "code",
   "execution_count": 555,
   "metadata": {},
   "outputs": [],
   "source": [
    "def model_evaluation(y_true, y_pred):\n",
    "    metrics = _cal_metrics(y_true, y_pred)\n",
    "    for (k, v) in metrics.items():\n",
    "        print(k + \": \" + str(v))\n",
    "\n",
    "\n",
    "def model_evaluation_multi_step(y_true, y_pred):\n",
    "    print(y_true.shape, y_pred.shape)\n",
    "    # y_true.shape = (1010, 20)\n",
    "    metrics_list = []\n",
    "    # 分别求t + 1, t + 2, ... , t + STEP_LEN 每天的评估指标\n",
    "    for i in range(len(y_true.T)):\n",
    "        metrics = _cal_metrics(pd.DataFrame(y_true.T[i]), pd.DataFrame(y_pred.T[i]))\n",
    "        metrics_list.append(metrics)\n",
    "        print(\"-------------------------------------------------------------------------\")\n",
    "        print(\"metrics of t + \" + str(i + 1))\n",
    "        print(\"-------------------------------------------------------------------------\")\n",
    "        for (k, v) in metrics.items():\n",
    "            print(\"\\r\" + k + \": \" + str(v))\n",
    "\n",
    "    # 求总体平均\n",
    "    for i in range(1, len(metrics_list)):\n",
    "        for (k, v) in metrics_list[0].items():\n",
    "            metrics_list[0][k] += metrics_list[i][k]\n",
    "    print(\"-------------------------------------------------------------------------\")\n",
    "    print(\"metrics of avg\")\n",
    "    print(\"-------------------------------------------------------------------------\")\n",
    "    for (k, v) in metrics_list[0].items():\n",
    "        print(\"\\r\" + k + \": \" + str(float(v) / y_true.shape[1]))\n",
    "\n",
    "\n",
    "def _cal_metrics(y_true, y_pred):\n",
    "    \"\"\"\n",
    "    计算各个指标的值\n",
    "    \"\"\"\n",
    "    re = _calc_re(y_true, y_pred)\n",
    "    metrics = {\n",
    "        \"explained_variance_score\":\n",
    "            explained_variance_score(y_true, y_pred),\n",
    "        \"mean_absolute_error\":\n",
    "            mean_absolute_error(y_true, y_pred),\n",
    "        \"mean_squared_error\":\n",
    "            mean_squared_error(y_true, y_pred),\n",
    "        \"median_absolute_error\":\n",
    "            median_absolute_error(y_true, y_pred),\n",
    "        \"r2_score\":\n",
    "            r2_score(y_true, y_pred),\n",
    "        \"sum_relative_error\":\n",
    "            re[0],\n",
    "        \"mean_relative_error\":\n",
    "            re[1]\n",
    "    }\n",
    "\n",
    "    return metrics\n",
    "\n",
    "\n",
    "def _calc_re(y_true, y_pred):\n",
    "    \"\"\"\n",
    "    计算相对误差（Sum/Mean Relative Error）\n",
    "    \"\"\"\n",
    "    return [((y_true - y_pred) / y_pred).sum().values, ((y_true - y_pred) / y_pred).mean().values]\n",
    "\n",
    "\n",
    "def _calc_trend_accuracy(predict, fed_data):\n",
    "    \"\"\"\n",
    "    趋势正确性评估，即判断当前收盘价与前一天收盘价对比上升/下降趋势是否正确\n",
    "    \"\"\"\n",
    "    # 全局索引\n",
    "    global_index = fed_data.index\n",
    "    # 预测的样本总数\n",
    "    predict_sample_no = predict.size\n",
    "    # 预测结果趋势正确的样本总数\n",
    "    correct_trend_no = 0\n",
    "    for index, pre in predict.iterrows():\n",
    "        # 获取前一天记录的索引值\n",
    "        pre_index = global_index.get_values()[global_index.get_loc(index) - 1]\n",
    "        # 获取前一天的收盘价\n",
    "        v_pre = fed_data.loc[pre_index]['close_price_i']\n",
    "        # 获取当前的收盘价\n",
    "        v_target = fed_data.loc[index]['close_price_i']\n",
    "        # 当天收盘价的预测值\n",
    "        v_predict = pre[0]\n",
    "        if (v_target - v_pre) * (v_predict - v_pre) > 0:\n",
    "            correct_trend_no += 1\n",
    "    print(\"trend accuracy rate: \" + str(correct_trend_no / predict_sample_no))\n"
   ]
  },
  {
   "cell_type": "code",
   "execution_count": 556,
   "metadata": {},
   "outputs": [],
   "source": [
    "def load_data():\n",
    "    raw_data = pd.read_csv(INPUT_DATA)\n",
    "    #print(len(raw_data))\n",
    "    raw_data.columns = [\"date\", \"time\", \"open\", \"close\", \"high\", \"low\", \"volume\",\n",
    "                     \"p1\", \"p2\", \"p3\", \"p4\", \"p5\", \"p6\", \"p7\", \"p8\", \"p9\", \"p10\",\n",
    "                     \"p11\", \"p12\", \"p13\", \"p14\", \"p15\", \"p16\", \"p17\", \"p18\", \"p19\", \"p20\",\n",
    "                     \"p21\", \"p22\", \"p23\", \"p24\", \"p25\", \"p26\", \"p27\", \"p28\", \"p29\", \"p30\",\n",
    "                     \"p31\", \"p32\", \"p33\", \"p34\", \"p35\", \"p36\", \"p37\"]\n",
    "\n",
    "    #raw_data = raw_data[['price_date'] + Conf.FIELDS].dropna()\n",
    "    #print(len(raw_data))\n",
    "    train_samples_num = int((len(raw_data) - STEP_LEN) * TRAIN_SAMPLES_RATE)\n",
    "    \n",
    "    # Divide features and labels\n",
    "    labels = raw_data[[\"date\", \"time\",\"high\"]]\n",
    "    labels_tag = labels[\"high\"]\n",
    "    data =  raw_data.drop(['high'],axis=1) # 删除需要预测的数据行\n",
    "    features = data.drop([\"date\", \"time\"],axis=1)\n",
    "    \n",
    "    _x_train = np.array(features[:train_samples_num])\n",
    "    _x_test = np.array(features[train_samples_num:-STEP_LEN])\n",
    "    _y_train = np.array(labels_tag).T[STEP_LEN:(train_samples_num + STEP_LEN)]\n",
    "    _y_test = np.array(labels_tag).T[train_samples_num + STEP_LEN:]\n",
    "    #_y_train = _y_train[:, np.newaxis] # 行向量转化为列向量\n",
    "    #_y_test = _y_test[:, np.newaxis]\n",
    "    print _x_train.shape, _x_test.shape, _y_train.shape, _y_test.shape,\n",
    "    print train_samples_num\n",
    "    _x_train, _x_test, x_scaler = min_max_normal(_x_train, _x_test)\n",
    "    _y_train, _y_test, y_scaler = min_max_normal(_y_train, _y_test)\n",
    "    \n",
    "    x_train = reshape_data(_x_train, SEQ_LEN)\n",
    "    x_test = reshape_data(_x_test, SEQ_LEN)\n",
    "    y_train = reshape_data(_y_train, STEP_LEN)\n",
    "    y_test = reshape_data(_y_test, STEP_LEN)\n",
    "\n",
    "    #print len(features), len(_x_train), len(_x_test), len(y_train), len(y_test)\n",
    "    print x_train.shape, y_train.shape, x_test.shape, y_test.shape\n",
    "\n",
    "    return [x_train, x_test, y_train, y_test, labels, labels_tag, data, features, x_scaler, y_scaler]"
   ]
  },
  {
   "cell_type": "code",
   "execution_count": 557,
   "metadata": {},
   "outputs": [],
   "source": [
    "def predict_by_day(model, data):\n",
    "    \"\"\"\n",
    "    按天预测\n",
    "    \"\"\"\n",
    "    predict = model.predict(data)\n",
    "    print(predict.shape)\n",
    "    # predict = np.reshape(predict, (len(predict),))\n",
    "    # print(predict.shape)\n",
    "    return predict"
   ]
  },
  {
   "cell_type": "code",
   "execution_count": 558,
   "metadata": {},
   "outputs": [],
   "source": [
    "def inverse_normalise_y(scaler, scalerd_y):\n",
    "    return scaler.inverse_transform(scalerd_y)"
   ]
  },
  {
   "cell_type": "code",
   "execution_count": 559,
   "metadata": {},
   "outputs": [
    {
     "name": "stdout",
     "output_type": "stream",
     "text": [
      "(16152, 41) (4039, 41) (16152,) (4039,) 16152\n",
      "(16132, 20, 41) (16132, 20) (4019, 20, 41) (4019, 20)\n"
     ]
    },
    {
     "name": "stderr",
     "output_type": "stream",
     "text": [
      "/usr/local/lib/python2.7/site-packages/sklearn/preprocessing/data.py:321: DeprecationWarning: Passing 1d arrays as data is deprecated in 0.17 and will raise ValueError in 0.19. Reshape your data either using X.reshape(-1, 1) if your data has a single feature or X.reshape(1, -1) if it contains a single sample.\n",
      "  warnings.warn(DEPRECATION_MSG_1D, DeprecationWarning)\n",
      "/usr/local/lib/python2.7/site-packages/sklearn/preprocessing/data.py:356: DeprecationWarning: Passing 1d arrays as data is deprecated in 0.17 and will raise ValueError in 0.19. Reshape your data either using X.reshape(-1, 1) if your data has a single feature or X.reshape(1, -1) if it contains a single sample.\n",
      "  warnings.warn(DEPRECATION_MSG_1D, DeprecationWarning)\n",
      "/usr/local/lib/python2.7/site-packages/sklearn/preprocessing/data.py:356: DeprecationWarning: Passing 1d arrays as data is deprecated in 0.17 and will raise ValueError in 0.19. Reshape your data either using X.reshape(-1, 1) if your data has a single feature or X.reshape(1, -1) if it contains a single sample.\n",
      "  warnings.warn(DEPRECATION_MSG_1D, DeprecationWarning)\n"
     ]
    }
   ],
   "source": [
    "x_train, x_test, y_train, y_test, labels, labels_tag, data, features, x_scaler, y_scaler = load_data()"
   ]
  },
  {
   "cell_type": "code",
   "execution_count": null,
   "metadata": {},
   "outputs": [],
   "source": []
  },
  {
   "cell_type": "code",
   "execution_count": 560,
   "metadata": {},
   "outputs": [
    {
     "name": "stdout",
     "output_type": "stream",
     "text": [
      "('> Compilation Time : ', 0.04791903495788574)\n",
      "_________________________________________________________________\n",
      "Layer (type)                 Output Shape              Param #   \n",
      "=================================================================\n",
      "lstm_40 (LSTM)               (None, 20, 20)            4960      \n",
      "_________________________________________________________________\n",
      "dropout_40 (Dropout)         (None, 20, 20)            0         \n",
      "_________________________________________________________________\n",
      "lstm_41 (LSTM)               (None, 100)               48400     \n",
      "_________________________________________________________________\n",
      "dropout_41 (Dropout)         (None, 100)               0         \n",
      "_________________________________________________________________\n",
      "dense_20 (Dense)             (None, 20)                2020      \n",
      "_________________________________________________________________\n",
      "batch_normalization_20 (Batc (None, 20)                80        \n",
      "_________________________________________________________________\n",
      "activation_20 (Activation)   (None, 20)                0         \n",
      "=================================================================\n",
      "Total params: 55,460\n",
      "Trainable params: 55,420\n",
      "Non-trainable params: 40\n",
      "_________________________________________________________________\n",
      "None\n"
     ]
    }
   ],
   "source": [
    "model = build_model()\n",
    "print(model.summary())"
   ]
  },
  {
   "cell_type": "code",
   "execution_count": 561,
   "metadata": {
    "collapsed": true
   },
   "outputs": [],
   "source": [
    "hist = History()"
   ]
  },
  {
   "cell_type": "code",
   "execution_count": 562,
   "metadata": {},
   "outputs": [
    {
     "name": "stdout",
     "output_type": "stream",
     "text": [
      "(16132, 20, 41)\n",
      "(16132, 20)\n",
      "(16152,)\n",
      "(16152, 41)\n"
     ]
    }
   ],
   "source": [
    "print np.array(x_train).shape\n",
    "print np.array(y_train).shape\n",
    "print _y_train.shape\n",
    "print _x_train.shape"
   ]
  },
  {
   "cell_type": "code",
   "execution_count": 567,
   "metadata": {},
   "outputs": [
    {
     "name": "stdout",
     "output_type": "stream",
     "text": [
      "Train on 15325 samples, validate on 807 samples\n",
      "Epoch 1/15\n",
      "15325/15325 [==============================] - 29s - loss: 0.0018 - val_loss: 5.9112e-04\n",
      "Epoch 2/15\n",
      "15325/15325 [==============================] - 27s - loss: 0.0016 - val_loss: 9.8971e-05\n",
      "Epoch 3/15\n",
      "15325/15325 [==============================] - 29s - loss: 0.0015 - val_loss: 9.5887e-05\n",
      "Epoch 4/15\n",
      "15325/15325 [==============================] - 25s - loss: 0.0013 - val_loss: 3.2210e-04\n",
      "Epoch 5/15\n",
      "15325/15325 [==============================] - 23s - loss: 0.0014 - val_loss: 3.8822e-04\n",
      "Epoch 6/15\n",
      "15325/15325 [==============================] - 25s - loss: 0.0012 - val_loss: 2.7263e-04\n"
     ]
    },
    {
     "data": {
      "text/plain": [
       "<keras.callbacks.History at 0x1964e8d50>"
      ]
     },
     "execution_count": 567,
     "metadata": {},
     "output_type": "execute_result"
    }
   ],
   "source": [
    "hist = History()\n",
    "EarlyStopping = EarlyStopping(monitor='val_loss',patience=2,verbose=0)\n",
    "model.fit(np.array(x_train), np.array(y_train), batch_size=500, epochs=15, shuffle=True,\n",
    "              validation_split=0.05, callbacks=[hist, EarlyStopping])"
   ]
  },
  {
   "cell_type": "code",
   "execution_count": 482,
   "metadata": {
    "collapsed": true
   },
   "outputs": [],
   "source": [
    "def predict_by_days(model, data):\n",
    "    \"\"\"\n",
    "    预测未来所有价格，这种方法仅对特征只有一个价格时有效，因为SQL_LEN+1天的非价格特征无法提前知道）\n",
    "    \"\"\"\n",
    "    # 用于保存预测结果\n",
    "    predict_seq = []\n",
    "    current_predict = None\n",
    "    for i in range(len(data)):\n",
    "        # 当前用于预测的样本\n",
    "        current_x = data[i]\n",
    "        if i > 0:\n",
    "            current_x[-1, -1] = current_predict\n",
    "        current_predict = model.predict(current_x[np.newaxis, :, :])[0, 0]\n",
    "        predict_seq.append(current_predict)\n",
    "    return predict_seq"
   ]
  },
  {
   "cell_type": "code",
   "execution_count": 516,
   "metadata": {},
   "outputs": [
    {
     "name": "stdout",
     "output_type": "stream",
     "text": [
      "(3983, 50)\n"
     ]
    }
   ],
   "source": [
    "predicted = predict_by_day(model, x_test)"
   ]
  },
  {
   "cell_type": "code",
   "execution_count": 484,
   "metadata": {},
   "outputs": [],
   "source": [
    "#len(predicted)"
   ]
  },
  {
   "cell_type": "code",
   "execution_count": 513,
   "metadata": {},
   "outputs": [],
   "source": [
    "def model_visualization(y_true, y_pred):\n",
    "    \"\"\"\n",
    "    预测结果可视化\n",
    "    \"\"\"\n",
    "    x = range(1, len(y_true) + 1)\n",
    "\n",
    "    plt.figure(figsize=(10, 6))\n",
    "    plt.title('copper price forecast model evaluating')\n",
    "    plt.xlabel('samples')\n",
    "    plt.ylabel('actual price vs. predict price')\n",
    "    plt.grid(x)\n",
    "\n",
    "    plt.plot(x, y_true, '-', label='actual price')\n",
    "    plt.plot(x, y_pred, '-', label='predict price')\n",
    "\n",
    "    plt.legend(loc='upper right')\n",
    "\n",
    "    plt.show()\n",
    "\n",
    "\n",
    "def model_visulaization_multi_step(y_true, y_pred):\n",
    "    \"\"\"\n",
    "    多步预测的预测结果可视化\n",
    "    \"\"\"\n",
    "    y_true = y_true.T\n",
    "    y_pred = y_pred.T\n",
    "\n",
    "    step_len = len(y_true)\n",
    "    # 计算显示step_len个子图所需的行数和列数\n",
    "    fig_row_num = int(math.sqrt(step_len))\n",
    "    fig_col_num = int(math.ceil(float(step_len) / fig_row_num)) if step_len > fig_row_num * fig_row_num else fig_row_num\n",
    "\n",
    "    x = range(1, len(y_pred[0]) + 1)\n",
    "\n",
    "    fig, axes = plt.subplots(nrows=fig_row_num, ncols=fig_col_num, sharex=True, sharey=True)\n",
    "    fig.suptitle('copper price forecast model evaluating - x:samples, y:prices - blue:act, yellow:pre')\n",
    "\n",
    "    i = 0\n",
    "    for row in axes:\n",
    "        for col in row:\n",
    "            if i < step_len:\n",
    "                col.set_title(\"day - \" + str(i + 1))\n",
    "                col.plot(x, y_true[i], '-', label='act')\n",
    "                col.plot(x, y_pred[i], '-', label='pre')\n",
    "                # 隐藏legend\n",
    "                # col.legend(loc='upper right')\n",
    "                i += 1\n",
    "                \n",
    "    fig.tight_layout()\n",
    "    plt.show()\n",
    "    \n",
    "#     i = 0\n",
    "#     for row in axes:\n",
    "#         for col in row:\n",
    "#             if i < step_len:\n",
    "#                 col.set_title(\"day - \" + str(i + 1))\n",
    "#                 col.plot(x, y_true[i], '-', label='act')\n",
    "#                 col.plot(x, y_pred[i], '-', label='pre')\n",
    "#                 # 隐藏legend\n",
    "#                 # col.legend(loc='upper right')\n",
    "#                 i += 1\n",
    "#                 plt.show()\n",
    "            #fig.tight_layout()\n",
    "            #plt.show()\n",
    "   # fig.tight_layout()\n",
    "   # plt.show()\n",
    "    \n",
    "\n",
    "\n",
    "def plot_loss(loss, val_loss):\n",
    "    \"\"\"\n",
    "    打印每个epochs的loss及val_loss\n",
    "    \"\"\"\n",
    "    x = range(1, len(loss) + 1)\n",
    "\n",
    "    plt.figure(figsize=(10, 6))\n",
    "    plt.title('loss and val_loss of model')\n",
    "    plt.xlabel('epochs')\n",
    "    plt.ylabel('loss and val_loss')\n",
    "    plt.grid(x)\n",
    "\n",
    "    plt.plot(x, loss, '-', label='loss')\n",
    "    plt.plot(x, val_loss, '-', label='val_loss')\n",
    "\n",
    "    plt.legend(loc='upper right')\n",
    "\n",
    "    plt.show()"
   ]
  },
  {
   "cell_type": "code",
   "execution_count": 494,
   "metadata": {},
   "outputs": [],
   "source": [
    "#model_evaluation_multi_step(pd.DataFrame(predicted), pd.DataFrame(y_test))"
   ]
  },
  {
   "cell_type": "code",
   "execution_count": 517,
   "metadata": {},
   "outputs": [],
   "source": [
    "predicted = inverse_normalise_y(y_scaler, predicted)"
   ]
  },
  {
   "cell_type": "code",
   "execution_count": 521,
   "metadata": {},
   "outputs": [],
   "source": [
    "y_test = inverse_normalise_y(y_scaler, y_test)"
   ]
  },
  {
   "cell_type": "code",
   "execution_count": 507,
   "metadata": {},
   "outputs": [
    {
     "data": {
      "text/plain": [
       "(3983, 50)"
      ]
     },
     "execution_count": 507,
     "metadata": {},
     "output_type": "execute_result"
    }
   ],
   "source": [
    "y_test.shape"
   ]
  },
  {
   "cell_type": "code",
   "execution_count": 509,
   "metadata": {},
   "outputs": [
    {
     "data": {
      "text/plain": [
       "(3983, 50)"
      ]
     },
     "execution_count": 509,
     "metadata": {},
     "output_type": "execute_result"
    }
   ],
   "source": [
    "predicted.shape"
   ]
  },
  {
   "cell_type": "code",
   "execution_count": 568,
   "metadata": {},
   "outputs": [
    {
     "name": "stdout",
     "output_type": "stream",
     "text": [
      "[0.001759557210692914, 0.0016269470649721257, 0.0014713511161876882, 0.0012796614655228196, 0.0013726657990679194, 0.0012179357687172405]\n",
      "[0.00059111805840728917, 9.8971144383937083e-05, 9.5887298325291349e-05, 0.00032209682458944741, 0.00038822365591049778, 0.0002726324549887694]\n"
     ]
    },
    {
     "data": {
      "image/png": "[encoded data removed]",
      "text/plain": [
       "<matplotlib.figure.Figure at 0x197560e10>"
      ]
     },
     "metadata": {},
     "output_type": "display_data"
    }
   ],
   "source": [
    "# 控制台打印历史loss及val_loss\n",
    "print(hist.history['loss'])\n",
    "print(hist.history['val_loss'])\n",
    "\n",
    "    # 可视化历史loss及val_loss\n",
    "plot_loss(hist.history['loss'], hist.history['val_loss'])"
   ]
  },
  {
   "cell_type": "code",
   "execution_count": 514,
   "metadata": {},
   "outputs": [
    {
     "data": {
      "image/png": "[encoded data removed]",
      "text/plain": [
       "<matplotlib.figure.Figure at 0x1992e2b50>"
      ]
     },
     "metadata": {},
     "output_type": "display_data"
    }
   ],
   "source": [
    "model_visulaization_multi_step(y_test, predicted)"
   ]
  },
  {
   "cell_type": "code",
   "execution_count": 518,
   "metadata": {},
   "outputs": [
    {
     "data": {
      "text/plain": [
       "array([ 421.89117432,  420.3729248 ,  419.5118103 ,  420.51168823,\n",
       "        417.72668457,  417.84082031,  419.85653687,  419.02511597,\n",
       "        417.91744995,  418.38174438,  417.94400024,  418.20083618,\n",
       "        417.85778809,  418.65219116,  418.35159302,  417.32119751,\n",
       "        420.57498169,  417.59262085,  417.64477539,  420.5585022 ,\n",
       "        416.95089722,  417.75582886,  418.73141479,  420.38336182,\n",
       "        416.95397949,  418.52368164,  416.60375977,  417.69830322,\n",
       "        415.49972534,  418.20544434,  418.33969116,  417.42077637,\n",
       "        418.83618164,  417.06231689,  417.26052856,  418.14483643,\n",
       "        416.86694336,  418.03115845,  417.42095947,  417.21591187,\n",
       "        414.68505859,  418.76516724,  419.60354614,  419.10299683,\n",
       "        420.3994751 ,  417.35098267,  416.88433838,  419.87332153,\n",
       "        419.59713745,  414.92880249], dtype=float32)"
      ]
     },
     "execution_count": 518,
     "metadata": {},
     "output_type": "execute_result"
    }
   ],
   "source": [
    "predicted[1]"
   ]
  },
  {
   "cell_type": "code",
   "execution_count": 522,
   "metadata": {},
   "outputs": [
    {
     "data": {
      "text/plain": [
       "array([ 443. ,  443.5,  441.5,  439. ,  438. ,  438. ,  437.5,  437.5,\n",
       "        438. ,  439. ,  437. ,  436.5,  433.5,  434. ,  435. ,  435. ,\n",
       "        435.5,  435.5,  435. ,  433.5,  435. ,  437.5,  437.5,  440. ,\n",
       "        438.5,  437.5,  438. ,  443. ,  445. ,  445. ,  445. ,  442.5,\n",
       "        443. ,  444.5,  447.5,  447. ,  447. ,  450. ,  444. ,  443. ,\n",
       "        443. ,  444.5,  442.5,  438.5,  438.5,  439.5,  438.5,  437.5,\n",
       "        436. ,  437.5])"
      ]
     },
     "execution_count": 522,
     "metadata": {},
     "output_type": "execute_result"
    }
   ],
   "source": [
    "y_test[1]"
   ]
  },
  {
   "cell_type": "code",
   "execution_count": null,
   "metadata": {
    "collapsed": true
   },
   "outputs": [],
   "source": []
  },
  {
   "cell_type": "code",
   "execution_count": null,
   "metadata": {
    "collapsed": true
   },
   "outputs": [],
   "source": []
  },
  {
   "cell_type": "code",
   "execution_count": null,
   "metadata": {
    "collapsed": true
   },
   "outputs": [],
   "source": []
  }
 ],
 "metadata": {
  "kernelspec": {
   "display_name": "Python 2",
   "language": "python",
   "name": "python2"
  },
  "language_info": {
   "codemirror_mode": {
    "name": "ipython",
    "version": 2
   },
   "file_extension": ".py",
   "mimetype": "text/x-python",
   "name": "python",
   "nbconvert_exporter": "python",
   "pygments_lexer": "ipython2",
   "version": "2.7.13"
  }
 },
 "nbformat": 4,
 "nbformat_minor": 2
}
